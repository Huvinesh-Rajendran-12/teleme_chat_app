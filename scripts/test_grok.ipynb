{
 "cells": [
  {
   "cell_type": "code",
   "execution_count": 21,
   "metadata": {},
   "outputs": [],
   "source": [
    "import os\n",
    "from dotenv import load_dotenv\n",
    "import json \n",
    "from openai import OpenAI"
   ]
  },
  {
   "cell_type": "code",
   "execution_count": 22,
   "metadata": {},
   "outputs": [
    {
     "data": {
      "text/plain": [
       "True"
      ]
     },
     "execution_count": 22,
     "metadata": {},
     "output_type": "execute_result"
    }
   ],
   "source": [
    "load_dotenv()"
   ]
  },
  {
   "cell_type": "code",
   "execution_count": 23,
   "metadata": {},
   "outputs": [],
   "source": [
    "XAI_API_KEY = os.getenv(\"XAI_API_KEY\", \"\")\n",
    "XAI_BASE_URL = os.getenv(\"XAI_BASE_URL\", \"\")"
   ]
  },
  {
   "cell_type": "code",
   "execution_count": 24,
   "metadata": {},
   "outputs": [],
   "source": [
    "client = OpenAI(\n",
    "    base_url=XAI_BASE_URL,\n",
    "    api_key=XAI_API_KEY\n",
    ")"
   ]
  },
  {
   "cell_type": "code",
   "execution_count": 25,
   "metadata": {},
   "outputs": [],
   "source": [
    "def get_current_temperature(location: str, unit: str = \"fahrenheit\"):\n",
    "    temperature: int\n",
    "    if unit.lower() == \"fahrenheit\":\n",
    "        temperature = 59\n",
    "    elif unit.lower() == \"celsius\":\n",
    "        temperature = 15\n",
    "    else:\n",
    "        raise ValueError(\"unit must be one of fahrenheit or celsius\")\n",
    "    return {\"location\": location, \"temperature\": temperature, \"unit\": \"fahrenheit\"}\n",
    "\n",
    "\n",
    "def get_current_ceiling(location: str):\n",
    "    return {\n",
    "        \"location\": location,\n",
    "        \"ceiling\": 15000,\n",
    "        \"ceiling_type\": \"broken\",\n",
    "        \"unit\": \"ft\",\n",
    "    }\n",
    "\n",
    "tools_map = {\n",
    "    \"get_current_temperature\": get_current_temperature,\n",
    "    \"get_current_ceiling\": get_current_ceiling,\n",
    "}\n"
   ]
  },
  {
   "cell_type": "code",
   "execution_count": 26,
   "metadata": {},
   "outputs": [],
   "source": [
    "tools_definition = [\n",
    "    {\n",
    "        \"type\": \"function\",\n",
    "        \"function\": {\n",
    "            \"name\": \"get_current_temperature\",\n",
    "            \"description\": \"Get the current temperature of the given location\",\n",
    "            \"parameters\": {\n",
    "                \"type\": \"object\",\n",
    "                \"properties\": {\n",
    "                    \"location\": {\n",
    "                        \"type\": \"string\",\n",
    "                        \"description\": \"The city and state, e.g. San Francisco, CA\"\n",
    "                    },\n",
    "                    \"unit\": {\n",
    "                        \"type\": \"string\",\n",
    "                        \"enum\": [\"celsius\", \"fahrenheit\"],\n",
    "                        \"default\": \"celsius\"\n",
    "                    }\n",
    "                },\n",
    "                \"required\": [\"location\"]\n",
    "            }\n",
    "        }\n",
    "    },\n",
    "    {\n",
    "        \"type\": \"function\",\n",
    "        \"function\": {\n",
    "            \"name\": \"get_current_ceiling\",\n",
    "            \"description\": \"Get the current cloud ceiling in a given location\",\n",
    "            \"parameters\": {\n",
    "                \"type\": \"object\",\n",
    "                \"properties\": {\n",
    "                    \"location\": {\n",
    "                        \"type\": \"string\",\n",
    "                        \"description\": \"The city and state, e.g. San Francisco, CA\"\n",
    "                    }\n",
    "                },\n",
    "                \"required\": [\"location\"]\n",
    "            }\n",
    "        }\n",
    "    }\n",
    "]\n"
   ]
  },
  {
   "cell_type": "code",
   "execution_count": 35,
   "metadata": {},
   "outputs": [
    {
     "name": "stdout",
     "output_type": "stream",
     "text": [
      "I can find the current temperature in Madagascar, but for the cloud ceiling height, I need the specific city and state. Could you please provide that?"
     ]
    }
   ],
   "source": [
    "messages = [{\"role\": \"user\", \"content\": \"Hi, find me the height of the ceiling and temperature in Madagascar.\"}]\n",
    "response = client.chat.completions.create(\n",
    "    model=\"grok-2-1212\",\n",
    "    messages=messages,\n",
    "    tools=tools_definition,\n",
    "    tool_choice=\"auto\",\n",
    "    stream=True\n",
    ")\n",
    "\n",
    "fn_call_in_progress = False\n",
    "fn_results = []\n",
    "\n",
    "for chunk in response:\n",
    "\n",
    "    if chunk.choices[0].delta.content is not None:\n",
    "        print(chunk.choices[0].delta.content, end=\"\", flush=True)\n",
    "\n",
    "\n",
    "    if chunk.choices[0].delta.tool_calls:\n",
    "        print(\"\\n\")\n",
    "        \n",
    "        for tool_call in chunk.choices[0].delta.tool_calls:\n",
    "\n",
    "            fn_name = tool_call.function.name\n",
    "            fn_args = json.loads(chunk.choices[0].delta.tool_calls[0].function.arguments)\n",
    "\n",
    "        result = tools_map[fn_name](**fn_args)\n",
    "\n",
    "        messages.append(\n",
    "            {\n",
    "                \"role\": \"tool\",\n",
    "                \"content\": json.dumps(result),\n",
    "                \"tool_call_id\": tool_call.id  # tool_call.id supplied in Grok's response\n",
    "            }\n",
    "        )\n",
    "\n",
    "if messages[-1]['role'] == 'tool':\n",
    "    response = client.chat.completions.create(\n",
    "        model=\"grok-2-1212\",\n",
    "        messages=messages,\n",
    "        tools=tools_definition,\n",
    "        tool_choice=\"auto\",\n",
    "        stream=True\n",
    "    )\n",
    "\n",
    "    for chunk in response:\n",
    "        if chunk.choices[0].delta.content is not None:\n",
    "            print(chunk.choices[0].delta.content, end=\"\", flush=True)  "
   ]
  },
  {
   "cell_type": "code",
   "execution_count": null,
   "metadata": {},
   "outputs": [],
   "source": []
  }
 ],
 "metadata": {
  "kernelspec": {
   "display_name": ".venv",
   "language": "python",
   "name": "python3"
  },
  "language_info": {
   "codemirror_mode": {
    "name": "ipython",
    "version": 3
   },
   "file_extension": ".py",
   "mimetype": "text/x-python",
   "name": "python",
   "nbconvert_exporter": "python",
   "pygments_lexer": "ipython3",
   "version": "3.12.8"
  }
 },
 "nbformat": 4,
 "nbformat_minor": 2
}
