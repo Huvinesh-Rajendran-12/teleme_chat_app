{
 "cells": [
  {
   "cell_type": "code",
   "execution_count": 27,
   "metadata": {},
   "outputs": [],
   "source": [
    "import json\n",
    "import os \n",
    "from dotenv import load_dotenv\n",
    "from datetime import datetime\n",
    "from dashscope import Generation\n",
    "import dashscope"
   ]
  },
  {
   "cell_type": "code",
   "execution_count": 28,
   "metadata": {},
   "outputs": [
    {
     "data": {
      "text/plain": [
       "True"
      ]
     },
     "execution_count": 28,
     "metadata": {},
     "output_type": "execute_result"
    }
   ],
   "source": [
    "load_dotenv()"
   ]
  },
  {
   "cell_type": "code",
   "execution_count": 29,
   "metadata": {},
   "outputs": [],
   "source": [
    "DASHSCOPE_API_KEY = os.getenv(\"DASHSCOPE_API_KEY\", \"\")\n",
    "DASHSCOPE_BASE_URL = os.getenv(\"DASHSCOPE_BASE_URL\", \"\")"
   ]
  },
  {
   "cell_type": "code",
   "execution_count": 30,
   "metadata": {},
   "outputs": [],
   "source": [
    "# Simulate the weather query tool. Sample response: \"It is rainy today in Beijing.\"\n",
    "def get_current_weather(location):\n",
    "    return f\"It's raining in {location}.\"\n",
    "\n",
    "# Simulate the time query tool. Sample response: \"Current time: 2024-04-15 17:15:18.\"\n",
    "def get_current_time():\n",
    "    # Obtain the current date and time\n",
    "    current_datetime = datetime.now()\n",
    "    # Format the current date and time\n",
    "    formatted_time = current_datetime.strftime('%Y-%m-%d %H:%M:%S')\n",
    "    # Return the formatted current date and time\n",
    "    return f\"Current time: {formatted_time}.\"\n",
    "\n",
    "tools_map = {\n",
    "    \"get_current_temperature\": get_current_weather,\n",
    "    \"get_current_ceiling\": get_current_time,\n",
    "}\n"
   ]
  },
  {
   "cell_type": "code",
   "execution_count": 31,
   "metadata": {},
   "outputs": [],
   "source": [
    "\n",
    "tools = [\n",
    "    # Tool 1: obtain the current time\n",
    "    {\n",
    "        \"type\": \"function\",\n",
    "        \"function\": {\n",
    "            \"name\": \"get_current_time\",\n",
    "            \"description\": \"This tool can help you query the current time.\",\n",
    "            # No request parameter is needed. The parameters parameter is left empty\n",
    "            \"parameters\": {}\n",
    "        }\n",
    "    },  \n",
    "    # Tool 2: obtain the weather of a specific city\n",
    "    {\n",
    "        \"type\": \"function\",\n",
    "        \"function\": {\n",
    "            \"name\": \"get_current_weather\",\n",
    "            \"description\": \"This tool can help you query the weather of a city.\",\n",
    "            \"parameters\": {  \n",
    "                \"type\": \"object\",\n",
    "                \"properties\": {\n",
    "                    # The parameters parameter is set to location, which specifies the location whose weather you want to query\n",
    "                    \"location\": {\n",
    "                        \"type\": \"string\",\n",
    "                        \"description\": \"A city, county, or district, such as Beijing, Hangzhou, or Yuhang.\"\n",
    "                    }\n",
    "                }\n",
    "            },\n",
    "            \"required\": [\n",
    "                \"location\"\n",
    "            ]\n",
    "        }\n",
    "    }\n",
    "]"
   ]
  },
  {
   "cell_type": "code",
   "execution_count": 32,
   "metadata": {},
   "outputs": [],
   "source": [
    "dashscope.base_http_api_url = DASHSCOPE_BASE_URL"
   ]
  },
  {
   "cell_type": "code",
   "execution_count": 34,
   "metadata": {},
   "outputs": [
    {
     "name": "stdout",
     "output_type": "stream",
     "text": [
      "{\"status_code\": 200, \"request_id\": \"9037f40a-c4b1-9eb3-a7c4-e3c6e3dad28c\", \"code\": \"\", \"message\": \"\", \"output\": {\"text\": \"✿FUNCTION✿: get_current_weather\\n✿ARGS✿: {\\\"location\\\": \\\"\", \"finish_reason\": \"null\", \"choices\": null}, \"usage\": {\"input_tokens\": 231, \"output_tokens\": 16, \"total_tokens\": 247}}\n"
     ]
    },
    {
     "ename": "KeyError",
     "evalue": "'choices'",
     "output_type": "error",
     "traceback": [
      "\u001b[0;31m---------------------------------------------------------------------------\u001b[0m",
      "\u001b[0;31mKeyError\u001b[0m                                  Traceback (most recent call last)",
      "Cell \u001b[0;32mIn[34], line 18\u001b[0m\n\u001b[1;32m     15\u001b[0m \u001b[38;5;28;01mfor\u001b[39;00m chunk \u001b[38;5;129;01min\u001b[39;00m response:\n\u001b[1;32m     16\u001b[0m     \u001b[38;5;28mprint\u001b[39m(chunk)\n\u001b[0;32m---> 18\u001b[0m     \u001b[38;5;28;01mif\u001b[39;00m \u001b[43mchunk\u001b[49m\u001b[38;5;241;43m.\u001b[39;49m\u001b[43mchoices\u001b[49m[\u001b[38;5;241m0\u001b[39m]\u001b[38;5;241m.\u001b[39mdelta\u001b[38;5;241m.\u001b[39mcontent \u001b[38;5;129;01mis\u001b[39;00m \u001b[38;5;129;01mnot\u001b[39;00m \u001b[38;5;28;01mNone\u001b[39;00m:\n\u001b[1;32m     19\u001b[0m         \u001b[38;5;28mprint\u001b[39m(chunk\u001b[38;5;241m.\u001b[39mchoices[\u001b[38;5;241m0\u001b[39m]\u001b[38;5;241m.\u001b[39mdelta\u001b[38;5;241m.\u001b[39mcontent, end\u001b[38;5;241m=\u001b[39m\u001b[38;5;124m\"\u001b[39m\u001b[38;5;124m\"\u001b[39m, flush\u001b[38;5;241m=\u001b[39m\u001b[38;5;28;01mTrue\u001b[39;00m)\n\u001b[1;32m     22\u001b[0m     \u001b[38;5;28;01mif\u001b[39;00m chunk\u001b[38;5;241m.\u001b[39mchoices[\u001b[38;5;241m0\u001b[39m]\u001b[38;5;241m.\u001b[39mdelta\u001b[38;5;241m.\u001b[39mtool_calls:\n",
      "File \u001b[0;32m~/Documents/teleme_chat_app/.venv/lib/python3.12/site-packages/dashscope/api_entities/dashscope_response.py:59\u001b[0m, in \u001b[0;36mDictMixin.__getattr__\u001b[0;34m(self, attr)\u001b[0m\n\u001b[1;32m     58\u001b[0m \u001b[38;5;28;01mdef\u001b[39;00m \u001b[38;5;21m__getattr__\u001b[39m(\u001b[38;5;28mself\u001b[39m, attr):\n\u001b[0;32m---> 59\u001b[0m     \u001b[38;5;28;01mreturn\u001b[39;00m \u001b[38;5;28;43mself\u001b[39;49m\u001b[43m[\u001b[49m\u001b[43mattr\u001b[49m\u001b[43m]\u001b[49m\n",
      "File \u001b[0;32m~/Documents/teleme_chat_app/.venv/lib/python3.12/site-packages/dashscope/api_entities/dashscope_response.py:15\u001b[0m, in \u001b[0;36mDictMixin.__getitem__\u001b[0;34m(self, key)\u001b[0m\n\u001b[1;32m     14\u001b[0m \u001b[38;5;28;01mdef\u001b[39;00m \u001b[38;5;21m__getitem__\u001b[39m(\u001b[38;5;28mself\u001b[39m, key):\n\u001b[0;32m---> 15\u001b[0m     \u001b[38;5;28;01mreturn\u001b[39;00m \u001b[38;5;28;43msuper\u001b[39;49m\u001b[43m(\u001b[49m\u001b[43m)\u001b[49m\u001b[38;5;241;43m.\u001b[39;49m\u001b[38;5;21;43m__getitem__\u001b[39;49m\u001b[43m(\u001b[49m\u001b[43mkey\u001b[49m\u001b[43m)\u001b[49m\n",
      "\u001b[0;31mKeyError\u001b[0m: 'choices'"
     ]
    }
   ],
   "source": [
    "\n",
    "messages = [{\"role\": \"user\", \"content\": \"Hi, find me the weather in Madagascar.\"}]\n",
    "\n",
    "response = Generation.call(\n",
    "    api_key=DASHSCOPE_API_KEY,\n",
    "    model=\"qwen-max\",\n",
    "    messages=messages,\n",
    "    tools=tools,\n",
    "    tool_choice=\"auto\",\n",
    "    stream=True\n",
    ")\n",
    "\n",
    "fn_call_in_progress = False\n",
    "fn_results = []\n",
    "\n",
    "for chunk in response:\n",
    "    print(chunk)\n",
    "\n",
    "    if chunk.choices[0].delta.content is not None:\n",
    "        print(chunk.choices[0].delta.content, end=\"\", flush=True)\n",
    "\n",
    "\n",
    "    if chunk.choices[0].delta.tool_calls:\n",
    "        print(\"\\n\")\n",
    "        \n",
    "        for tool_call in chunk.choices[0].delta.tool_calls:\n",
    "\n",
    "            fn_name = tool_call.function.name\n",
    "            fn_args = json.loads(chunk.choices[0].delta.tool_calls[0].function.arguments)\n",
    "\n",
    "        result = tools_map[fn_name](**fn_args)\n",
    "\n",
    "        messages.append(\n",
    "            {\n",
    "                \"role\": \"tool\",\n",
    "                \"content\": json.dumps(result),\n",
    "                \"tool_call_id\": tool_call.id  # tool_call.id supplied in Grok's response\n",
    "            }\n",
    "        )\n",
    "\n",
    "if messages[-1]['role'] == 'tool':\n",
    "    response = client.chat.completions.create(\n",
    "        model=\"qwen-max\",\n",
    "        messages=messages,\n",
    "        tools=tools_definition,\n",
    "        tool_choice=\"auto\",\n",
    "        stream=True\n",
    "    )\n",
    "\n",
    "    for chunk in response:\n",
    "        if chunk.choices[0].delta.content is not None:\n",
    "            print(chunk.choices[0].delta.content, end=\"\", flush=True)  "
   ]
  },
  {
   "cell_type": "code",
   "execution_count": null,
   "metadata": {},
   "outputs": [],
   "source": []
  }
 ],
 "metadata": {
  "kernelspec": {
   "display_name": ".venv",
   "language": "python",
   "name": "python3"
  },
  "language_info": {
   "codemirror_mode": {
    "name": "ipython",
    "version": 3
   },
   "file_extension": ".py",
   "mimetype": "text/x-python",
   "name": "python",
   "nbconvert_exporter": "python",
   "pygments_lexer": "ipython3",
   "version": "3.12.8"
  }
 },
 "nbformat": 4,
 "nbformat_minor": 2
}
